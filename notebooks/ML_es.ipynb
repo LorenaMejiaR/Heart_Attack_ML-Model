{
 "cells": [
  {
   "cell_type": "code",
   "execution_count": null,
   "id": "c4023713-d6fd-4f0c-84aa-b198b34fc1f2",
   "metadata": {},
   "outputs": [],
   "source": [
    "import pandas as pd\n",
    "import numpy as np\n",
    "import seaborn as sns\n",
    "import matplotlib.pyplot as plt\n",
    "\n",
    "from sklearn.model_selection import train_test_split\n",
    "from sklearn.neighbors import KNeighborsClassifier\n",
    "from sklearn.preprocessing import MinMaxScaler\n",
    "from sklearn.neighbors import KNeighborsRegressor\n",
    "from sklearn.neighbors import KNeighborsClassifier\n",
    "\n",
    "from sklearn.preprocessing import OneHotEncoder"
   ]
  },
  {
   "cell_type": "code",
   "execution_count": null,
   "id": "3fc9c103-11fe-46a8-ae45-773ec71387a8",
   "metadata": {},
   "outputs": [],
   "source": [
    "url= \"../data/raw/heart_disease_health_indicators_BRFSS2015.csv\"\n",
    "df = pd.read_csv(url)\n",
    "df"
   ]
  },
  {
   "cell_type": "code",
   "execution_count": null,
   "id": "817d8b3c-c21e-43b8-9c0b-7d05b013de0c",
   "metadata": {},
   "outputs": [],
   "source": [
    "df.shape"
   ]
  },
  {
   "cell_type": "code",
   "execution_count": null,
   "id": "f0a5bd3b-a3f5-4049-93cd-112afbfc3da5",
   "metadata": {},
   "outputs": [],
   "source": [
    "df.info()"
   ]
  },
  {
   "cell_type": "code",
   "execution_count": null,
   "id": "132a4cb8-0aa9-4892-9880-d5906e3c7aa5",
   "metadata": {},
   "outputs": [],
   "source": [
    "df.isna().sum()"
   ]
  },
  {
   "cell_type": "code",
   "execution_count": null,
   "id": "0469edae-f0d0-4bfc-b85b-f4ccf99741f0",
   "metadata": {},
   "outputs": [],
   "source": [
    "# Drop the column PhysHlth, because is correlated to the column GenHlth\n",
    "# Drop the column DiffWalk, because is correlated to the column GenHlth\n",
    "# Drop the column Education, because is correlated to the column Income\n",
    "df_new = df.drop(['PhysHlth', 'DiffWalk','Education'],  axis=1)\n",
    "df_new"
   ]
  },
  {
   "cell_type": "code",
   "execution_count": null,
   "id": "3100b0f7-41f8-4796-8d88-388af733935e",
   "metadata": {},
   "outputs": [],
   "source": [
    "features = df_new.drop('HeartDiseaseorAttack', axis=1)\n",
    "target = df_new['HeartDiseaseorAttack']\n",
    "\n",
    "# performing train-test split\n",
    "X_train, X_test, y_train, y_test = train_test_split(features, target, test_size=0.2, random_state=0)"
   ]
  },
  {
   "cell_type": "code",
   "execution_count": null,
   "id": "d10ecb90-dbb5-4248-8d66-581ff7dd362a",
   "metadata": {},
   "outputs": [],
   "source": [
    "# normalize numerical features\n",
    "normalizer = MinMaxScaler()\n",
    "normalizer.fit(X_train)\n",
    "\n",
    "X_train_norm = normalizer.transform(X_train)\n",
    "X_test_norm = normalizer.transform(X_test)"
   ]
  },
  {
   "cell_type": "code",
   "execution_count": null,
   "id": "fae01e34-b0ac-4083-83cb-f95a7dc40650",
   "metadata": {},
   "outputs": [],
   "source": [
    "y_test"
   ]
  },
  {
   "cell_type": "markdown",
   "id": "8f0ce96f-c961-402a-ab3d-a20abe2b180d",
   "metadata": {},
   "source": [
    "#### Converting normalized data do dataframes"
   ]
  },
  {
   "cell_type": "code",
   "execution_count": null,
   "id": "d39cd251-4805-4583-a543-40d3e02431b9",
   "metadata": {},
   "outputs": [],
   "source": [
    "X_train_norm = pd.DataFrame(X_train_norm, columns=X_train.columns, index=X_train.index )\n",
    "display(X_train_norm.head())\n",
    "\n",
    "X_test_norm = pd.DataFrame(X_test_norm, columns=X_test.columns, index=X_test.index)\n",
    "display(X_test_norm.head())"
   ]
  },
  {
   "cell_type": "markdown",
   "id": "83c02ae5-373f-450d-8350-4b857655d7e0",
   "metadata": {},
   "source": [
    "#### Regressor"
   ]
  },
  {
   "cell_type": "code",
   "execution_count": null,
   "id": "535699bc-fbc6-459b-8ca8-76b2b4b3c3d9",
   "metadata": {},
   "outputs": [],
   "source": [
    "knn = KNeighborsRegressor(n_neighbors=10)\n",
    "# Fit the model on the training data (not the test data)\n",
    "knn.fit(X_train_norm, y_train)\n",
    "\n",
    "# Evaluate the model on the training set\n",
    "print(f\"The R2 of the model on the TRAINING set is: {knn.score(X_train_norm, y_train)*100: .2f}%\")\n",
    "\n",
    "# evaluate the model on the test set\n",
    "print(f\"The R2 of the model on the TEST set is: {knn.score(X_test_norm, y_test)*100: .2f}%\")\n"
   ]
  },
  {
   "cell_type": "markdown",
   "id": "b1fc9005-6f11-4de5-975a-cc9ce39ace51",
   "metadata": {},
   "source": [
    "#### Classifier for data before normalization"
   ]
  },
  {
   "cell_type": "code",
   "execution_count": null,
   "id": "0cb16f70-6b24-45f2-8c60-19134ec7f4af",
   "metadata": {},
   "outputs": [],
   "source": [
    "knn = KNeighborsClassifier(n_neighbors=3)\n",
    "knn.fit(X_train, y_train)\n",
    "print(f\"The accuracy of the model vs the test is {knn.score(X_test, y_test)*100: .2f}%\")\n",
    "print(f\"The accuracy of the model vs the training data is {knn.score(X_train, y_train)*100: .2f}%\")"
   ]
  },
  {
   "cell_type": "markdown",
   "id": "5acb913e-0129-4602-97fc-3eb89af636ae",
   "metadata": {},
   "source": [
    "#### Classifier for data after normalization with n_neighbors=35"
   ]
  },
  {
   "cell_type": "code",
   "execution_count": null,
   "id": "f57b66fa-29c7-4e38-ae33-5033561c419a",
   "metadata": {},
   "outputs": [],
   "source": [
    "# Initialize the KNeighborsClassifier with k=35\n",
    "knn = KNeighborsClassifier(n_neighbors=35)\n",
    "\n",
    "# Fit the model on the training data (not the test data)\n",
    "knn.fit(X_train_norm, y_train)\n",
    "\n",
    "# Evaluate the model on the training set\n",
    "print(f\"The accuracy of the model on the TRAINING set is: {knn.score(X_train_norm, y_train)*100: .2f}%\")\n",
    "\n",
    "# Evaluate the model on the test set\n",
    "print(f\"The accuracy of the model on the TEST set is: {knn.score(X_test_norm, y_test)*100: .2f}%\")"
   ]
  },
  {
   "cell_type": "markdown",
   "id": "d472b67f-bfed-41ec-8b97-8ba24c79e280",
   "metadata": {},
   "source": [
    "#### Classifier for data after normalization with n_neighbors=3"
   ]
  },
  {
   "cell_type": "code",
   "execution_count": null,
   "id": "127f03a5-8ef2-40c2-acb6-e5ac155c0f0f",
   "metadata": {},
   "outputs": [],
   "source": [
    "# Initialize the KNeighborsClassifier with k=3\n",
    "knn = KNeighborsClassifier(n_neighbors=3)\n",
    "\n",
    "# Fit the model on the training data (not the test data)\n",
    "knn.fit(X_train_norm, y_train)\n",
    "\n",
    "# Evaluate the model on the training set\n",
    "print(f\"The accuracy of the model on the TRAINING set is: {knn.score(X_train_norm, y_train)*100: .2f}%\")\n",
    "\n",
    "# Evaluate the model on the test set\n",
    "print(f\"The accuracy of the model on the TEST set is: {knn.score(X_test_norm, y_test)*100: .2f}%\")"
   ]
  },
  {
   "cell_type": "markdown",
   "id": "b1ced91e-4743-4d32-a514-6211d37a621e",
   "metadata": {},
   "source": [
    "#### Checking the data shapes if they correspond"
   ]
  },
  {
   "cell_type": "code",
   "execution_count": null,
   "id": "81a89062-e9ed-4535-a4b1-57d7a669e0ce",
   "metadata": {},
   "outputs": [],
   "source": [
    "print(X_train_norm.shape)\n",
    "print(y_train.shape)"
   ]
  },
  {
   "cell_type": "code",
   "execution_count": null,
   "id": "7082ede2-3bbb-455f-b6c6-55108444a079",
   "metadata": {},
   "outputs": [],
   "source": [
    "print(X_test_norm.shape)  \n",
    "print(y_test.shape)       "
   ]
  }
 ],
 "metadata": {
  "kernelspec": {
   "display_name": "Python 3 (ipykernel)",
   "language": "python",
   "name": "python3"
  },
  "language_info": {
   "codemirror_mode": {
    "name": "ipython",
    "version": 3
   },
   "file_extension": ".py",
   "mimetype": "text/x-python",
   "name": "python",
   "nbconvert_exporter": "python",
   "pygments_lexer": "ipython3",
   "version": "3.12.4"
  }
 },
 "nbformat": 4,
 "nbformat_minor": 5
}
