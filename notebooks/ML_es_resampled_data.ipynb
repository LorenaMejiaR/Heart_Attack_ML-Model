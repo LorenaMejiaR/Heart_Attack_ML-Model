{
 "cells": [
  {
   "cell_type": "code",
   "execution_count": null,
   "id": "eeaa6988-2ab5-4552-97b5-1e84e308ceea",
   "metadata": {},
   "outputs": [],
   "source": [
    "import pandas as pd\n",
    "import numpy as np\n",
    "import seaborn as sns\n",
    "import matplotlib.pyplot as plt\n",
    "\n",
    "from sklearn.model_selection import train_test_split, GridSearchCV\n",
    "from sklearn.linear_model import LogisticRegression\n",
    "from sklearn.neighbors import KNeighborsClassifier\n",
    "from sklearn.preprocessing import MinMaxScaler\n",
    "from sklearn.neighbors import KNeighborsRegressor\n",
    "from sklearn.metrics import fbeta_score, make_scorer, confusion_matrix, cohen_kappa_score, precision_score, recall_score, classification_report, f1_score\n",
    "from sklearn.preprocessing import OneHotEncoder,  StandardScaler\n",
    "from sklearn.utils import resample\n",
    "from sklearn.tree import DecisionTreeClassifier\n",
    "\n",
    "\n",
    "from sklearn.tree import DecisionTreeRegressor\n",
    "from sklearn.ensemble import BaggingRegressor, RandomForestRegressor,AdaBoostRegressor, GradientBoostingRegressor, AdaBoostClassifier\n",
    "\n",
    "from sklearn.preprocessing import MinMaxScaler, StandardScaler\n",
    "from sklearn.metrics import r2_score, mean_absolute_error, mean_squared_error, root_mean_squared_error"
   ]
  },
  {
   "cell_type": "code",
   "execution_count": null,
   "id": "8b1e8c0e-5dca-44de-9158-3b41073ae946",
   "metadata": {},
   "outputs": [],
   "source": [
    "heart_data = \"../data/clean/resampled_data.csv\"\n",
    "heart_df = pd.read_csv(heart_data)\n",
    "heart_df.head()"
   ]
  },
  {
   "cell_type": "code",
   "execution_count": null,
   "id": "9daad077-6721-4f26-ae00-7f3a59dea7ff",
   "metadata": {},
   "outputs": [],
   "source": [
    "heart_df.shape"
   ]
  },
  {
   "cell_type": "code",
   "execution_count": null,
   "id": "398f4542-0ea3-4835-8cc7-dfe03c3c2759",
   "metadata": {},
   "outputs": [],
   "source": [
    "df_new = heart_df.drop(['PhysHlth', 'DiffWalk','Education'],  axis=1)\n",
    "df_new"
   ]
  },
  {
   "cell_type": "code",
   "execution_count": null,
   "id": "a46c609d-0abd-468b-80f5-d67dcc61e03e",
   "metadata": {},
   "outputs": [],
   "source": [
    "plt.figure(figsize=(8, 6))\n",
    "sns.countplot(data=heart_df, x='HeartDiseaseorAttack')\n",
    "plt.title(f'Count plot')\n",
    "plt.xticks(rotation=45)  # Rotate x-axis labels if needed\n",
    "plt.show()"
   ]
  },
  {
   "cell_type": "code",
   "execution_count": null,
   "id": "7ed6fd55-63a3-4c8a-ac26-be251ea4d92e",
   "metadata": {},
   "outputs": [],
   "source": [
    "target = df_new['HeartDiseaseorAttack']\n",
    "features = df_new.drop('HeartDiseaseorAttack', axis=1)\n",
    "\n",
    "x_train, x_test, y_train, y_test = train_test_split(features, target, test_size=0.20, random_state=0)\n",
    "\n",
    "#Normalise all columns to be 0-1\n",
    "normalizer = MinMaxScaler()\n",
    "normalizer.fit(x_train)\n",
    "\n",
    "x_train_norm = normalizer.transform(x_train)\n",
    "x_test_norm = normalizer.transform(x_test)\n",
    "\n",
    "x_train_norm = pd.DataFrame(x_train_norm, columns=x_train.columns, index=x_train.index )\n",
    "x_test_norm = pd.DataFrame(x_test_norm, columns=x_test.columns, index=x_test.index)"
   ]
  },
  {
   "cell_type": "markdown",
   "id": "0100b91b-4dc7-42c9-8729-f8e877401291",
   "metadata": {},
   "source": [
    "#### Adaptive boosting"
   ]
  },
  {
   "cell_type": "markdown",
   "id": "e8e7ec03-80b4-4833-9ea8-d80543f6a24e",
   "metadata": {},
   "source": [
    "#### Using classifier"
   ]
  },
  {
   "cell_type": "code",
   "execution_count": null,
   "id": "3fd62a5b-dd12-4376-8f86-7b058f9970e3",
   "metadata": {},
   "outputs": [],
   "source": [
    "ada_reg = AdaBoostClassifier(DecisionTreeClassifier(max_depth=20),\n",
    "                            n_estimators=100)\n",
    "ada_reg.fit(x_train_norm, y_train)\n",
    "pred = ada_reg.predict(x_test_norm)\n",
    "print(f\"MAE, {mean_absolute_error(pred, y_test): .2f}\")\n",
    "print(f\"MSE, {mean_squared_error(pred, y_test): .2f}\")\n",
    "print(f\"RMSE, {root_mean_squared_error(pred, y_test): .2f}\")\n",
    "print(f\"R2 score, {ada_reg.score(x_test_norm, y_test): .2f}\")"
   ]
  },
  {
   "cell_type": "markdown",
   "id": "945b98de-2982-4b4f-ac5c-75879eaddf42",
   "metadata": {},
   "source": [
    "#### Interpretation of the result\n",
    "\n",
    "The MAE, MSE, and RMSE values suggest relatively small prediction errors, indicating that the model's predictions are quite close to the actual values.\n",
    "\n",
    "The R² score of 0.76 means that the model is able to explain 76% of the variation in the target variable, which indicates that it's doing a good job of predicting the outcomes."
   ]
  },
  {
   "cell_type": "code",
   "execution_count": null,
   "id": "c6ae43a3-abbe-4890-be53-7a2ebb9e7feb",
   "metadata": {},
   "outputs": [],
   "source": [
    "# Iterate over a range of n_estimators for AdaBoost\n",
    "for i in range(3, 8): \n",
    "    ada_boost = AdaBoostClassifier(DecisionTreeClassifier(max_depth=20),\n",
    "        n_estimators=i,  # number of estimators (trees)\n",
    "        random_state=42\n",
    "    )\n",
    "    print(f\"For {i} n_estimators:\")\n",
    "    # Fit the AdaBoost model\n",
    "    ada_boost.fit(x_train, y_train)\n",
    "    # Predict the labels on the test set\n",
    "    y_pred = ada_boost.predict(x_test)\n",
    "    \n",
    "    # Calculate Cohen's Kappa score\n",
    "    kappa = cohen_kappa_score(y_test, y_pred)\n",
    "    \n",
    "    # Calculate accuracy manually using confusion matrix\n",
    "    accuracy = 100 * ((cm[0][0] + cm[1][1]) / (sum(cm[0]) + sum(cm[1])))\n",
    "    \n",
    "    print(f\"Accuracy: {accuracy:.2f}%\")\n",
    "    print(f\"Cohen's Kappa: {kappa:.4f}\")\n",
    "    print(cm)"
   ]
  }
 ],
 "metadata": {
  "kernelspec": {
   "display_name": "Python 3 (ipykernel)",
   "language": "python",
   "name": "python3"
  },
  "language_info": {
   "codemirror_mode": {
    "name": "ipython",
    "version": 3
   },
   "file_extension": ".py",
   "mimetype": "text/x-python",
   "name": "python",
   "nbconvert_exporter": "python",
   "pygments_lexer": "ipython3",
   "version": "3.12.4"
  }
 },
 "nbformat": 4,
 "nbformat_minor": 5
}
